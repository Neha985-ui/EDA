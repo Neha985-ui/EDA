{
  "nbformat": 4,
  "nbformat_minor": 0,
  "metadata": {
    "colab": {
      "provenance": []
    },
    "kernelspec": {
      "name": "python3",
      "display_name": "Python 3"
    },
    "language_info": {
      "name": "python"
    }
  },
  "cells": [
    {
      "cell_type": "code",
      "source": [
        "import sqlite3\n",
        "\n",
        "conn = sqlite3.connect('example.db')\n",
        "cursor = conn.cursor()\n",
        "\n",
        "\n",
        "cursor.execute(\"\"\"\n",
        "CREATE TABLE IF NOT EXISTS employees (\n",
        "    emp_id INTEGER PRIMARY KEY,\n",
        "    emp_name TEXT NOT NULL,\n",
        "    age INTEGER CHECK (age >= 18),\n",
        "    email TEXT UNIQUE NOT NULL,\n",
        "    salary DECIMAL DEFAULT 30000\n",
        ");\n",
        "\"\"\")\n",
        "\n",
        "\n",
        "conn.commit()\n",
        "\n",
        "\n",
        "cursor.execute(\"PRAGMA table_info(employees);\")\n",
        "columns = cursor.fetchall()\n",
        "print(\"Table structure:\", columns)\n",
        "\n",
        "cursor.close()\n",
        "conn.close()\n"
      ],
      "metadata": {
        "colab": {
          "base_uri": "https://localhost:8080/"
        },
        "id": "88ip2aec77db",
        "outputId": "8a3ca543-b0d3-4af3-ef9c-02bc621e568d"
      },
      "execution_count": null,
      "outputs": [
        {
          "output_type": "stream",
          "name": "stdout",
          "text": [
            "Table structure: [(0, 'emp_id', 'INTEGER', 0, None, 1), (1, 'emp_name', 'TEXT', 1, None, 0), (2, 'age', 'INTEGER', 0, None, 0), (3, 'email', 'TEXT', 1, None, 0), (4, 'salary', 'DECIMAL', 0, '30000', 0)]\n"
          ]
        }
      ]
    },
    {
      "cell_type": "code",
      "source": [
        "#2. Explain the purpose of constraints and how they help maintain data integrity in a database. Provide examples of common types of constraints.\n",
        "'''\n",
        "Purpose of Constraints in a Database\n",
        "Constraints in a database are rules applied to columns or tables that ensure the integrity, accuracy, and reliability of the data stored in the database. They are used to\n",
        " restrict the type of data that can be entered into a table, ensuring that only valid data is allowed.The primary purpose of constraints is to maintain data integrity, ensuring\n",
        "  that data meets specific requirements, is consistent, and follows predefined rules. Constraints prevent\n",
        " errors like duplicate records, invalid data types, and out-of-range values.\n",
        "\n",
        " How Constraints Help Maintain Data Integrity\n",
        "Preventing Invalid Data: Constraints ensure that only valid and meaningful data can be inserted into the database.\n",
        "Ensuring Consistency: Constraints ensure that relationships between tables and data within them remain consistent.\n",
        "Improving Accuracy: Constraints help enforce rules to prevent incorrect or missing data from entering the database.\n",
        "Supporting Business Rules: They allow you to implement business logic directly within the database (e.g., age must be greater than or equal to 18).\n",
        "Avoiding Data Redundancy: Constraints like UNIQUE prevent duplicate data from being inserted into the table.\n",
        "\n",
        "Common Types of Constraints\n",
        "PRIMARY KEY\n",
        "\n",
        "Purpose: Ensures that a column (or a combination of columns) uniquely identifies each row in a table.\n",
        "How it works: A primary key column cannot contain NULL values, and all values must be unique.\n",
        "Example:\n",
        "'''"
      ],
      "metadata": {
        "id": "i4UTFxNl-IwR"
      },
      "execution_count": null,
      "outputs": []
    },
    {
      "cell_type": "code",
      "source": [
        "import sqlite3\n",
        "\n",
        "# Connect to SQLite database (it will create a file if it doesn't exist)\n",
        "conn = sqlite3.connect('/content/example.db')  # This creates a database file named example.db\n",
        "cursor = conn.cursor()\n",
        "\n",
        "# SQL query to create the table\n",
        "create_table_query = \"\"\"\n",
        "CREATE TABLE IF NOT EXISTS employees (\n",
        "    emp_id INTEGER PRIMARY KEY,  -- emp_id is the primary key\n",
        "    emp_name TEXT NOT NULL,      -- emp_name must not be NULL\n",
        "    age INTEGER CHECK (age >= 18),  -- age must be at least 18\n",
        "    email TEXT UNIQUE NOT NULL,  -- email must be unique and not NULL\n",
        "    salary DECIMAL DEFAULT 30000  -- salary defaults to 30000 if not provided\n",
        ");\n",
        "\"\"\"\n",
        "\n",
        "# Execute the SQL query to create the table\n",
        "cursor.execute(create_table_query)\n",
        "\n",
        "# Commit the changes to save the table in the database\n",
        "conn.commit()\n",
        "\n",
        "# Verify that the table has been created by listing the tables\n",
        "cursor.execute(\"SELECT name FROM sqlite_master WHERE type='table';\")\n",
        "print(cursor.fetchall())  # This will print a list of tables in the database\n",
        "\n",
        "# Close the cursor and the connection at the end\n",
        "cursor.close()\n",
        "conn.close()\n"
      ],
      "metadata": {
        "colab": {
          "base_uri": "https://localhost:8080/"
        },
        "id": "x5Sbewi4-zwJ",
        "outputId": "e0ce67a5-c6c8-49eb-c81d-103b0d1d1f09"
      },
      "execution_count": null,
      "outputs": [
        {
          "output_type": "stream",
          "name": "stdout",
          "text": [
            "[('employees',)]\n"
          ]
        }
      ]
    },
    {
      "cell_type": "code",
      "source": [
        "#Not Null\n",
        "'''\n",
        "Ensures that a column cannot have a NULL value.\n",
        "Useful when a column must always contain a value\n",
        "Example\n",
        "'''\n",
        "import sqlite3\n",
        "\n",
        "# Connect to SQLite database (it will create a file if it doesn't exist)\n",
        "conn = sqlite3.connect('/content/example.db')  # The database will be saved in the current directory\n",
        "cursor = conn.cursor()\n",
        "\n",
        "# SQL query to create the table\n",
        "create_table_query = \"\"\"\n",
        "CREATE TABLE IF NOT EXISTS employees (\n",
        "    emp_id INTEGER PRIMARY KEY,  -- emp_id is the primary key (not NULL implicitly)\n",
        "    emp_name TEXT NOT NULL       -- emp_name must not be NULL (explicit NOT NULL constraint)\n",
        ");\n",
        "\"\"\"\n",
        "\n",
        "# Execute the SQL query to create the table\n",
        "cursor.execute(create_table_query)\n",
        "\n",
        "# Commit the changes to save the table in the database\n",
        "conn.commit()\n",
        "\n",
        "# Verify that the table has been created by listing the tables\n",
        "cursor.execute(\"SELECT name FROM sqlite_master WHERE type='table';\")\n",
        "print(cursor.fetchall())  # This will print the list of tables in the database\n",
        "\n",
        "# Close the cursor and the connection\n",
        "cursor.close()\n",
        "conn.close()\n",
        "\n"
      ],
      "metadata": {
        "colab": {
          "base_uri": "https://localhost:8080/"
        },
        "id": "T0iLtgrN-4mr",
        "outputId": "4cfc1273-edda-4c78-8263-ea7c9e6021a3"
      },
      "execution_count": null,
      "outputs": [
        {
          "output_type": "stream",
          "name": "stdout",
          "text": [
            "[('employees',)]\n"
          ]
        }
      ]
    },
    {
      "cell_type": "code",
      "source": [
        "#Foreign key\n",
        "'''\n",
        "A Foreign Key is a column or a combination of columns in one table that refers to the Primary Key in another table. The foreign key establishes a relationship between the two\n",
        " tables and ensures data integrity by enforcing rules on how data in one table relates to data in another\n",
        " example\n",
        " '''\n",
        "import sqlite3\n",
        "\n",
        "\n",
        "conn = sqlite3.connect('example.db')\n",
        "cursor = conn.cursor()\n",
        "\n",
        "\n",
        "cursor.execute(\"\"\"\n",
        "CREATE TABLE IF NOT EXISTS courses (\n",
        "    course_id INTEGER PRIMARY KEY,\n",
        "    course_name TEXT NOT NULL\n",
        ");\n",
        "\"\"\")\n",
        "\n",
        "\n",
        "cursor.execute(\"\"\"\n",
        "CREATE TABLE IF NOT EXISTS students (\n",
        "    student_id INTEGER PRIMARY KEY,\n",
        "    student_name TEXT NOT NULL,\n",
        "    course_id INTEGER,\n",
        "    FOREIGN KEY (course_id) REFERENCES courses(course_id)\n",
        ");\n",
        "\"\"\")\n",
        "\n",
        "\n",
        "conn.commit()\n",
        "cursor.close()\n",
        "conn.close()\n",
        "\n",
        "\n",
        "\n",
        "\n"
      ],
      "metadata": {
        "id": "6ONh3sJYA1VL"
      },
      "execution_count": null,
      "outputs": []
    },
    {
      "cell_type": "code",
      "source": [
        "#3.Why would you apply the NOT NULL constraint to a column? Can a primary key contain NULL values? Justify your answer.\n",
        "'''\n",
        "\n",
        "\n",
        "1. Why would you apply the NOT NULL constraint to a column?\n",
        "\n",
        "The NOT NULL constraint is used in databases to ensure that a column cannot contain `NULL` values. There are several reasons for applying the `NOT NULL` constraint:\n",
        "\n",
        "1. Data Integrity:\n",
        "   - Enforcing the `NOT NULL` constraint ensures that critical data is not missing. For example, if you have a column that stores an employee's name, you wouldn't want to allow\n",
        "    `NULL` values because every employee should have a name in the database.\n",
        "   - This constraint guarantees that essential information is always provided.\n",
        "\n",
        "2. Ensuring Accurate Calculations:\n",
        "   - When performing calculations or queries that require specific values, having `NULL` entries can result in errors or incorrect results. By ensuring a column is `NOT NULL`,\n",
        "    you can avoid issues when running calculations or generating reports.\n",
        "\n",
        "3. Validation:\n",
        "   - The `NOT NULL` constraint is useful for validating that a column has valid data. For example, if you have a column to store the email address of users, applying `NOT NULL`\n",
        "    ensures that users' email addresses cannot be missing.\n",
        "\n",
        "4. Optimized Performance:\n",
        "   - Databases typically handle `NULL` values in a special way. Allowing `NULL` values in a column could introduce additional complexity when querying or indexing. In some cases,\n",
        "    avoiding `NULL` values can help optimize database performance by simplifying indexing and search operations.\n",
        "\n",
        "2. Can a primary key contain NULL values?\n",
        "\n",
        "No, a primary key cannot contain `NULL` values. Here's why:\n",
        "\n",
        "1. Uniqueness Requirement:\n",
        "   - A primary key must ensure that every row in the table is uniquely identifiable. The primary key must have a **unique** value for each record.\n",
        "   - `NULL` values are not considered unique because, by definition, `NULL` represents an unknown or missing value. If you were to allow `NULL` in the primary key, it would\n",
        "    conflict with the principle that each record should have a unique identifier.\n",
        "\n",
        "2. Integrity Constraints:\n",
        "   - A primary key enforces the entity integrity constraint, which means that every row in the table must have a distinct and non-null identifier. Allowing `NULL` in the primary\n",
        "    key would violate this integrity.\n",
        "\n",
        "3. Relational Database Rules:\n",
        "   - In relational databases, a `NULL` value is treated as unknown. Since `NULL` is not a valid or fixed value, it can't serve as a unique identifier for a record.\n",
        "\n",
        "4. Automatic Not Null:\n",
        "   - The primary key constraint implicitly includes a `NOT NULL` constraint. This means that when you define a primary key on a column, the database automatically ensures that\n",
        "    `NULL` values are not allowed in that column.\n",
        "\n"
      ],
      "metadata": {
        "id": "VHB1kKZQDToM"
      },
      "execution_count": null,
      "outputs": []
    },
    {
      "cell_type": "markdown",
      "source": [
        "#4. Explain the steps and SQL commands used to add or remove constraints on an existing table. Provide an example for both adding and removing a constraint.\n",
        "'''\n",
        "To remove a constraint from an existing table, we also use the ALTER TABLE statement.  However, the DROP CONSTRAINT clause is used to remove a constraint.\n",
        "Steps:\n",
        "Identify the Constraint to Remove\n",
        "Use the ALTER TABLE Command\n",
        "example\n",
        "\n",
        "#ALTER TABLE table_name\n",
        "#DROP CONSTRAINT constraint_name\n",
        "\n",
        "removing a UNIQUE Constraint\n",
        "Assume we want to remove the unique_email constraint we added earlier\n",
        "\n",
        "ALTER TABLE employees\n",
        "DROP CONSTRAINT unique_email;\n",
        "\n",
        "This command removes the unique_email constraint from the employees table, allowing duplicate email addresses in the future."
      ],
      "metadata": {
        "id": "5zBhsoUkKmlx"
      }
    },
    {
      "cell_type": "code",
      "source": [
        "#5Explain the consequences of attempting to insert, update, or delete data in a way that violates constraints.Provide an example of an error message that might occur\n",
        "# when violating a constraint.\n",
        "'''\n",
        "Consequences of Violating Constraints\n",
        "When you attempt to insert, update, or delete data in a way that violates a constraint, the database management system (DBMS) will prevent the action from being completed and\n",
        " will typically raise an error. Constraints are rules that ensure the integrity, accuracy, and consistency of the data in the database. Violating these constraints compromises\n",
        "  the integrity of the database, and the DBMS enforces the rules by rejecting the operation.\n",
        "  Consequences of Violating Constraints:\n",
        "Data Integrity: The database ensures that the data remains valid according to the defined business rules. Violating constraints leads to invalid or inconsistent data, which can\n",
        " cause inaccurate reports, calculations, or system errors in downstream applications.\n",
        "\n",
        "Transaction Failure: If a constraint violation occurs during a transaction, the entire transaction is rolled back (in most cases) to maintain the database's consistency and\n",
        " integrity. This means no changes will be saved to the database.\n",
        "\n",
        "Error Message: The DBMS will return an error message that indicates the nature of the violation. This error message helps the developer or user understand why the operation\n",
        " failed and can guide them to fix the issue.\n",
        "\n",
        "Loss of Relationships: In the case of foreign key constraints, violating the constraint can break relationships between tables, leading to orphaned records or data\n",
        " inconsistencies.\n",
        "\n",
        "User Experience Issues: For applications interacting with the database, constraint violations can cause user-facing errors, delays, or crashes, which degrade the quality of\n",
        " service.\n",
        " Example of an Error Message When Violating a Constraint\n",
        " Not Null Violation\n",
        " INSERT INTO employees (emp_id, emp_name, age, email, salary)\n",
        "VALUES (1, NULL, 25, 'john@example.com', 50000);\n",
        "  Error\n",
        "ERROR: column \"emp_name\" cannot be null\n",
        "\n"
      ],
      "metadata": {
        "id": "ndTByhHVGklC"
      },
      "execution_count": null,
      "outputs": []
    },
    {
      "cell_type": "markdown",
      "source": [
        "6. You created a products table without constraints as follows:\n",
        "\n",
        "CREATE TABLE products (\n",
        "\n",
        "    product_id INT,\n",
        "\n",
        "    product_name VARCHAR(50),\n",
        "\n",
        "    price DECIMAL(10, 2));\n",
        "Now, you realise that?\n",
        ": The product_id should be a primary keyQ\n",
        ": The price should have a default value of 50.00\n",
        "\n",
        "Answer\n",
        "To modify the existing table products and add the constraints you realized were missing (setting product_id as the primary key and giving the price column a default value of 50.00), you cannot directly add a constraint using the ALTER TABLE command to modify columns with constraints in SQLite. However, for SQLite (the context you are using), the steps generally require the following approach:\n",
        "\n",
        "Create a new table with the desired constraints.\n",
        "Copy data from the old table to the new table.\n",
        "Drop the old table.\n",
        "Rename the new table to the original name"
      ],
      "metadata": {
        "id": "lrsLDOnWJ60V"
      }
    },
    {
      "cell_type": "code",
      "source": [
        "import sqlite3\n",
        "\n",
        "# Connect to SQLite database (it will create a file if it doesn't exist)\n",
        "conn = sqlite3.connect('example.db')\n",
        "cursor = conn.cursor()\n",
        "\n",
        "# Create the products table as per your specification\n",
        "cursor.execute(\"\"\"\n",
        "CREATE TABLE IF NOT EXISTS products (\n",
        "    product_id INTEGER,          -- product_id is an integer\n",
        "    product_name VARCHAR(50),    -- product_name is a string (up to 50 characters)\n",
        "    price DECIMAL(10, 2)        -- price is a decimal with 2 decimal places\n",
        ");\n",
        "\"\"\")\n",
        "\n",
        "# Commit changes and close\n",
        "conn.commit()\n",
        "\n",
        "# Verify if the table was created successfully by checking the table schema\n",
        "cursor.execute(\"PRAGMA table_info(products);\")\n",
        "columns = cursor.fetchall()\n",
        "print(\"Table columns:\")\n",
        "for column in columns:\n",
        "    print(column)\n",
        "\n",
        "# Close the connection\n",
        "cursor.close()\n",
        "conn.close()\n",
        "\n",
        "print(\"Products table created successfully!\")\n"
      ],
      "metadata": {
        "colab": {
          "base_uri": "https://localhost:8080/"
        },
        "id": "Vd2IVdawMdF-",
        "outputId": "8231ece6-af6e-4195-c797-0b093ff2eb9c"
      },
      "execution_count": null,
      "outputs": [
        {
          "output_type": "stream",
          "name": "stdout",
          "text": [
            "Table columns:\n",
            "(0, 'product_id', 'INTEGER', 0, None, 0)\n",
            "(1, 'product_name', 'VARCHAR(50)', 0, None, 0)\n",
            "(2, 'price', 'DECIMAL(10, 2)', 0, None, 0)\n",
            "Products table created successfully!\n"
          ]
        }
      ]
    },
    {
      "cell_type": "code",
      "source": [
        "import sqlite3\n",
        "\n",
        "\n",
        "conn = sqlite3.connect('example.db')\n",
        "cursor = conn.cursor()\n",
        "\n",
        "\n",
        "cursor.execute(\"\"\"\n",
        "CREATE TABLE IF NOT EXISTS new_products (\n",
        "    product_id INTEGER PRIMARY KEY,   -- Set product_id as Primary Key\n",
        "    product_name TEXT,\n",
        "    price DECIMAL(10, 2) DEFAULT 50.00  -- Set default value for price\n",
        ");\n",
        "\"\"\")\n",
        "\n",
        "\n",
        "cursor.execute(\"\"\"\n",
        "INSERT INTO new_products (product_id, product_name, price)\n",
        "SELECT product_id, product_name, IFNULL(price, 50.00)  -- Use 50.00 if price is NULL\n",
        "FROM products;\n",
        "\"\"\")\n",
        "\n",
        "\n",
        "cursor.execute(\"DROP TABLE IF EXISTS products;\")\n",
        "\n",
        "\n",
        "cursor.execute(\"ALTER TABLE new_products RENAME TO products;\")\n",
        "\n",
        "\n",
        "conn.commit()\n",
        "cursor.close()\n",
        "conn.close()\n",
        "\n",
        "print(\"Table modified successfully!\")\n",
        "\n",
        "\n"
      ],
      "metadata": {
        "colab": {
          "base_uri": "https://localhost:8080/"
        },
        "id": "yjn1lyQFKW4t",
        "outputId": "dbb3bb98-4c7e-4cb1-832f-00a688eeb5ee"
      },
      "execution_count": null,
      "outputs": [
        {
          "output_type": "stream",
          "name": "stdout",
          "text": [
            "Table modified successfully!\n"
          ]
        }
      ]
    },
    {
      "cell_type": "code",
      "source": [
        "#Suppose you have 2 tables, Write a query to fetch the student_name and class_name for each student using an INNER JOIN."
      ],
      "metadata": {
        "id": "dXLQGT1UMjKY"
      },
      "execution_count": null,
      "outputs": []
    },
    {
      "cell_type": "code",
      "source": [
        "import sqlite3\n",
        "\n",
        "# Connect to SQLite database (it will create a file if it doesn't exist)\n",
        "conn = sqlite3.connect('example.db')\n",
        "cursor = conn.cursor()\n",
        "\n",
        "# Drop the students table if it exists (to avoid the error from the previous run)\n",
        "cursor.execute(\"DROP TABLE IF EXISTS students;\")\n",
        "\n",
        "# Drop the classes table if it exists (optional, in case you want to start fresh)\n",
        "cursor.execute(\"DROP TABLE IF EXISTS classes;\")\n",
        "\n",
        "# Create the classes table\n",
        "cursor.execute(\"\"\"\n",
        "CREATE TABLE IF NOT EXISTS classes (\n",
        "    class_id INTEGER PRIMARY KEY,  -- class_id is the primary key\n",
        "    class_name TEXT NOT NULL       -- class_name cannot be NULL\n",
        ");\n",
        "\"\"\")\n",
        "\n",
        "# Create the students table with a foreign key referencing classes table\n",
        "cursor.execute(\"\"\"\n",
        "CREATE TABLE IF NOT EXISTS students (\n",
        "    student_id INTEGER PRIMARY KEY,  -- student_id is the primary key\n",
        "    student_name TEXT NOT NULL,      -- student_name cannot be NULL\n",
        "    class_id INTEGER,                -- class_id is the foreign key\n",
        "    FOREIGN KEY (class_id) REFERENCES classes (class_id)  -- foreign key constraint\n",
        ");\n",
        "\"\"\")\n",
        "\n",
        "# Insert data into the classes table\n",
        "cursor.executemany(\"\"\"\n",
        "INSERT INTO classes (class_id, class_name)\n",
        "VALUES (?, ?);\n",
        "\"\"\", [(101, 'Math'), (102, 'Science'), (103, 'History')])\n",
        "\n",
        "# Insert data into the students table\n",
        "cursor.executemany(\"\"\"\n",
        "INSERT INTO students (student_id, student_name, class_id)\n",
        "VALUES (?, ?, ?);\n",
        "\"\"\", [(1, 'Alice', 101), (2, 'Bob', 102), (3, 'Charlie', 103)])\n",
        "\n",
        "# Commit changes\n",
        "conn.commit()\n",
        "\n",
        "# Query and print the data from the classes table\n",
        "cursor.execute(\"SELECT * FROM classes;\")\n",
        "classes_data = cursor.fetchall()\n",
        "print(\"Classes Table Data:\")\n",
        "for row in classes_data:\n",
        "    print(row)\n",
        "\n",
        "# Query and print the data from the students table\n",
        "cursor.execute(\"SELECT * FROM students;\")\n",
        "students_data = cursor.fetchall()\n",
        "print(\"\\nStudents Table Data:\")\n",
        "for row in students_data:\n",
        "    print(row)\n",
        "\n",
        "# Close the connection\n",
        "cursor.close()\n",
        "conn.close()\n",
        "\n",
        "print(\"\\nTables 'students' and 'classes' created and data inserted successfully!\")\n",
        "\n",
        "\n",
        "\n",
        "\n",
        "\n"
      ],
      "metadata": {
        "colab": {
          "base_uri": "https://localhost:8080/"
        },
        "id": "USvcrjI6MtJO",
        "outputId": "8b4b9c22-042b-452e-9a6d-eef48ea2220a"
      },
      "execution_count": null,
      "outputs": [
        {
          "output_type": "stream",
          "name": "stdout",
          "text": [
            "Classes Table Data:\n",
            "(101, 'Math')\n",
            "(102, 'Science')\n",
            "(103, 'History')\n",
            "\n",
            "Students Table Data:\n",
            "(1, 'Alice', 101)\n",
            "(2, 'Bob', 102)\n",
            "(3, 'Charlie', 103)\n",
            "\n",
            "Tables 'students' and 'classes' created and data inserted successfully!\n"
          ]
        }
      ]
    },
    {
      "cell_type": "code",
      "source": [
        "import sqlite3\n",
        "\n",
        "# Connect to the SQLite database (ensure it's the same database file)\n",
        "conn = sqlite3.connect('example.db')\n",
        "cursor = conn.cursor()\n",
        "\n",
        "# Run the INNER JOIN query to fetch student_name and class_name\n",
        "cursor.execute(\"\"\"\n",
        "SELECT students.student_name, classes.class_name\n",
        "FROM students\n",
        "INNER JOIN classes\n",
        "ON students.class_id = classes.class_id;\n",
        "\"\"\")\n",
        "\n",
        "# Fetch all results\n",
        "results = cursor.fetchall()\n",
        "\n",
        "# Print the results\n",
        "print(\"Student Name - Class Name\")\n",
        "for row in results:\n",
        "    print(f\"{row[0]} - {row[1]}\")\n",
        "\n",
        "# Close the connection\n",
        "cursor.close()\n",
        "conn.close()\n"
      ],
      "metadata": {
        "colab": {
          "base_uri": "https://localhost:8080/"
        },
        "id": "3XWS8UQ6UQTB",
        "outputId": "6aad8b2c-80aa-459f-e579-4a7e013b6ccb"
      },
      "execution_count": null,
      "outputs": [
        {
          "output_type": "stream",
          "name": "stdout",
          "text": [
            "Student Name - Class Name\n",
            "Alice - Math\n",
            "Bob - Science\n",
            "Charlie - History\n"
          ]
        }
      ]
    },
    {
      "cell_type": "markdown",
      "source": [
        "#8Consider the following three tables:\n",
        "'''\n",
        "Write a query that shows all order_id, customer_name, and product_name, ensuring that all products are\n",
        "listed even if they are not associated with an order\n",
        "\n",
        "Hint: (use INNER JOIN and LEFT JOIN)5"
      ],
      "metadata": {
        "id": "zcbM8LQ7VPkP"
      }
    },
    {
      "cell_type": "code",
      "source": [
        "import sqlite3\n",
        "\n",
        "# Connect to SQLite database (it will create the file if it doesn't exist)\n",
        "conn = sqlite3.connect('test_db.sqlite')\n",
        "cursor = conn.cursor()\n",
        "\n",
        "# Create 'orders' table\n",
        "cursor.execute(\"\"\"\n",
        "    CREATE TABLE IF NOT EXISTS orders (\n",
        "        order_id INTEGER PRIMARY KEY,\n",
        "        order_date TEXT,\n",
        "        customer_id INTEGER\n",
        "    )\n",
        "\"\"\")\n",
        "\n",
        "# Create 'customers' table\n",
        "cursor.execute(\"\"\"\n",
        "    CREATE TABLE IF NOT EXISTS customers (\n",
        "        customer_id INTEGER PRIMARY KEY,\n",
        "        customer_name TEXT\n",
        "    )\n",
        "\"\"\")\n",
        "\n",
        "# Create 'products' table\n",
        "cursor.execute(\"\"\"\n",
        "    CREATE TABLE IF NOT EXISTS products (\n",
        "        product_id INTEGER PRIMARY KEY,\n",
        "        product_name TEXT,\n",
        "        order_id INTEGER,\n",
        "        FOREIGN KEY (order_id) REFERENCES orders(order_id)\n",
        "    )\n",
        "\"\"\")\n",
        "\n",
        "# Commit changes and close the connection\n",
        "conn.commit()\n",
        "\n",
        "cursor.close()\n",
        "conn.close()\n"
      ],
      "metadata": {
        "id": "Tfsw7KHMZGFA"
      },
      "execution_count": null,
      "outputs": []
    },
    {
      "cell_type": "code",
      "source": [
        "import sqlite3\n",
        "\n",
        "# Connect to SQLite database (it will create the file if it doesn't exist)\n",
        "conn = sqlite3.connect('test_db.sqlite')\n",
        "cursor = conn.cursor()\n",
        "\n",
        "# Create 'orders' table\n",
        "cursor.execute(\"\"\"\n",
        "    CREATE TABLE IF NOT EXISTS orders (\n",
        "        order_id INTEGER PRIMARY KEY,\n",
        "        order_date TEXT,\n",
        "        customer_id INTEGER\n",
        "    )\n",
        "\"\"\")\n",
        "\n",
        "# Create 'customers' table\n",
        "cursor.execute(\"\"\"\n",
        "    CREATE TABLE IF NOT EXISTS customers (\n",
        "        customer_id INTEGER PRIMARY KEY,\n",
        "        customer_name TEXT\n",
        "    )\n",
        "\"\"\")\n",
        "\n",
        "# Create 'products' table\n",
        "cursor.execute(\"\"\"\n",
        "    CREATE TABLE IF NOT EXISTS products (\n",
        "        product_id INTEGER PRIMARY KEY,\n",
        "        product_name TEXT,\n",
        "        order_id INTEGER,\n",
        "        FOREIGN KEY (order_id) REFERENCES orders(order_id)\n",
        "    )\n",
        "\"\"\")\n",
        "\n",
        "# Insert sample data into 'orders'\n",
        "cursor.execute(\"\"\"\n",
        "    INSERT INTO orders (order_id, order_date, customer_id)\n",
        "    VALUES (1, '2024-01-01', 101), (2, '2024-01-03', 102)\n",
        "\"\"\")\n",
        "\n",
        "# Insert sample data into 'customers'\n",
        "cursor.execute(\"\"\"\n",
        "    INSERT INTO customers (customer_id, customer_name)\n",
        "    VALUES (101, 'Alice'), (102, 'Bob')\n",
        "\"\"\")\n",
        "\n",
        "# Insert sample data into 'products'\n",
        "cursor.execute(\"\"\"\n",
        "    INSERT INTO products (product_id, product_name, order_id)\n",
        "    VALUES (1, 'Laptop', 1), (2, 'Phone', NULL)\n",
        "\"\"\")\n",
        "\n",
        "# Commit changes\n",
        "conn.commit()\n",
        "\n",
        "# Perform the query to get all order_id, customer_name, and product_name\n",
        "cursor.execute(\"\"\"\n",
        "    SELECT o.order_id, c.customer_name, p.product_name\n",
        "    FROM products p\n",
        "    LEFT JOIN orders o ON p.order_id = o.order_id\n",
        "    LEFT JOIN customers c ON o.customer_id = c.customer_id\n",
        "\"\"\")\n",
        "\n",
        "# Fetch and print the result\n",
        "results = cursor.fetchall()\n",
        "for row in results:\n",
        "    print(row)\n",
        "\n",
        "# Close the connection\n",
        "cursor.close()\n",
        "conn.close()\n"
      ],
      "metadata": {
        "colab": {
          "base_uri": "https://localhost:8080/"
        },
        "id": "vcBZKWR0ZI-_",
        "outputId": "06d39953-ec7e-4310-e285-9d1507d47589"
      },
      "execution_count": null,
      "outputs": [
        {
          "output_type": "stream",
          "name": "stdout",
          "text": [
            "(1, 'Alice', 'Laptop')\n",
            "(None, None, 'Phone')\n"
          ]
        }
      ]
    },
    {
      "cell_type": "markdown",
      "source": [
        "9 Given the following tables:\n",
        "Write a query to find the total sales amount for each product using an INNER JOIN and the SUM() function.\n"
      ],
      "metadata": {
        "id": "aL5PuV4Ao-1F"
      }
    },
    {
      "cell_type": "code",
      "source": [
        "\n",
        "import sqlite3\n",
        "\n",
        "conn = sqlite3.connect('database.db')\n",
        "c = conn.cursor()\n",
        "\n",
        "c.execute('''\n",
        "    CREATE TABLE sales (\n",
        "        sale_id INTEGER,\n",
        "        product_id TEXT,\n",
        "        amount INTEGER\n",
        "    )\n",
        "''')\n",
        "\n",
        "c.execute(\"INSERT INTO sales VALUES (1, '101', 500)\")\n",
        "c.execute(\"INSERT INTO sales VALUES (2, '102', 300)\")\n",
        "c.execute(\"INSERT INTO sales VALUES (3, '101', 700)\")\n",
        "\n",
        "c.execute('''\n",
        "    CREATE TABLE products (\n",
        "        product_id TEXT,\n",
        "        product_name TEXT\n",
        "    )\n",
        "''')\n",
        "\n",
        "c.execute(\"INSERT INTO products VALUES ('101', 'Laptop')\")\n",
        "c.execute(\"INSERT INTO products VALUES ('102', 'Phone')\")\n",
        "\n",
        "conn.commit()\n",
        "conn.close()"
      ],
      "metadata": {
        "id": "HEEIZHKNpIWu"
      },
      "execution_count": null,
      "outputs": []
    },
    {
      "cell_type": "code",
      "source": [
        "import sqlite3\n",
        "\n",
        "conn = sqlite3.connect('database.db')\n",
        "c = conn.cursor()\n",
        "\n",
        "c.execute('''\n",
        "    SELECT p.product_name, SUM(s.amount) AS total_sales\n",
        "    FROM sales s\n",
        "    INNER JOIN products p\n",
        "    ON s.product_id = p.product_id\n",
        "    GROUP BY p.product_name\n",
        "''')\n",
        "\n",
        "rows = c.fetchall()\n",
        "for row in rows:\n",
        "    print(row)\n",
        "\n",
        "conn.close()"
      ],
      "metadata": {
        "colab": {
          "base_uri": "https://localhost:8080/"
        },
        "id": "M7-MuTb9pzfn",
        "outputId": "499f013f-083f-4244-d18b-56a505f7862b"
      },
      "execution_count": null,
      "outputs": [
        {
          "output_type": "stream",
          "name": "stdout",
          "text": [
            "('Laptop', 1200)\n",
            "('Phone', 300)\n"
          ]
        }
      ]
    },
    {
      "cell_type": "markdown",
      "source": [
        "10 You are given three tables:\n",
        "Write a query to display the order_id, customer_name, and the quantity of products ordered by each\n",
        "customer using an INNER JOIN between all three tables."
      ],
      "metadata": {
        "id": "EqEx2a34qyu9"
      }
    },
    {
      "cell_type": "code",
      "source": [
        "import sqlite3\n",
        "\n",
        "conn = sqlite3.connect('database.db')\n",
        "c = conn.cursor()\n",
        "\n",
        "c.execute('''\n",
        "    CREATE TABLE orders (\n",
        "        order_id INTEGER,\n",
        "        order_date TEXT,\n",
        "        customer_id INTEGER\n",
        "    )\n",
        "''')\n",
        "\n",
        "c.execute(\"INSERT INTO orders VALUES (1, '2022-01-02', 1)\")\n",
        "c.execute(\"INSERT INTO orders VALUES (2, '2022-01-05', 2)\")\n",
        "c.execute(\"INSERT INTO orders VALUES (3, '2022-01-02', 1)\")\n",
        "\n",
        "c.execute('''\n",
        "    CREATE TABLE customers (\n",
        "        customer_id INTEGER,\n",
        "        customer_name TEXT\n",
        "    )\n",
        "''')\n",
        "\n",
        "c.execute(\"INSERT INTO customers VALUES (1, 'Alies')\")\n",
        "c.execute(\"INSERT INTO customers VALUES (2, 'Bob')\")\n",
        "\n",
        "c.execute('''\n",
        "    CREATE TABLE order_details (\n",
        "        order_id INTEGER,\n",
        "        product_id TEXT,\n",
        "        quantity INTEGER\n",
        "    )\n",
        "''')\n",
        "\n",
        "c.execute(\"INSERT INTO order_details VALUES (1, '101', 2)\")\n",
        "c.execute(\"INSERT INTO order_details VALUES (1, '102', 1)\")\n",
        "c.execute(\"INSERT INTO order_details VALUES (2, '101', 3)\")\n",
        "\n",
        "conn.commit()\n",
        "\n",
        "c.execute('''\n",
        "    SELECT c.customer_name, o.order_date, od.product_id, od.quantity\n",
        "    FROM customers c\n",
        "    INNER JOIN orders o\n",
        "    ON c.customer_id = o.customer_id\n",
        "    INNER JOIN order_details od\n",
        "    ON o.order_id = od.order_id\n",
        "''')\n",
        "\n",
        "rows = c.fetchall()\n",
        "for row in rows:\n",
        "    print(row)\n",
        "\n",
        "conn.close()\n"
      ],
      "metadata": {
        "colab": {
          "base_uri": "https://localhost:8080/"
        },
        "id": "RAHPgVP5qqXG",
        "outputId": "2412b072-7bb4-484b-da42-f9225678aeca"
      },
      "execution_count": null,
      "outputs": [
        {
          "output_type": "stream",
          "name": "stdout",
          "text": [
            "('Alies', '2022-01-02', '101', 2)\n",
            "('Alies', '2022-01-02', '102', 1)\n",
            "('Bob', '2022-01-05', '101', 3)\n"
          ]
        }
      ]
    },
    {
      "cell_type": "code",
      "source": [
        "import sqlite3\n",
        "\n",
        "conn = sqlite3.connect('database.db')\n",
        "c = conn.cursor()\n",
        "\n",
        "c.execute('''\n",
        "    SELECT o.order_id, c.customer_name, SUM(od.quantity) AS total_quantity\n",
        "    FROM orders o\n",
        "    INNER JOIN customers c\n",
        "    ON o.customer_id = c.customer_id\n",
        "    INNER JOIN order_details od\n",
        "    ON o.order_id = od.order_id\n",
        "    GROUP BY o.order_id, c.customer_name\n",
        "''')\n",
        "\n",
        "rows = c.fetchall()\n",
        "for row in rows:\n",
        "    print(row)\n",
        "\n",
        "conn.close()"
      ],
      "metadata": {
        "colab": {
          "base_uri": "https://localhost:8080/"
        },
        "id": "fzmTP38UqvTP",
        "outputId": "40c999b2-03a5-44fc-975c-fafb6a2bbea2"
      },
      "execution_count": null,
      "outputs": [
        {
          "output_type": "stream",
          "name": "stdout",
          "text": [
            "(1, 'Alies', 3)\n",
            "(2, 'Bob', 3)\n"
          ]
        }
      ]
    },
    {
      "cell_type": "markdown",
      "source": [
        "SQL COMMANDS"
      ],
      "metadata": {
        "id": "skx1yGVGrgwi"
      }
    },
    {
      "cell_type": "code",
      "source": [
        "#1-Identify the primary keys and foreign keys in maven movies db. Discuss the differences\n",
        "#Primary key\n",
        "#Primary keys are used to uniquely identify each record in a table. They must be unique for each row and cannot contain null values\n",
        "#Foregin keys\n",
        "#Foreign keys are columns in a table that link to the primary key of another table, enforcing referential integrity between the two tables.\n",
        "#Difference Between Primary Keys and Foreign Keys\n",
        "#primary key = Uniquely identifies each record in a table.\n",
        "#Cannot have null values\n",
        "#Each table can have only one primary key\n",
        "#Foregin keys = Establishes a relationship between two tables\n",
        "#Refers to the primary key of another table\n",
        "#Can have duplicate values and can also contain null  values, depending on the relationship.\n",
        "#Examples\n",
        "'''\n",
        "actor table → actor_id (Primary Key)\n",
        "film table → film_id (Primary Key)\n",
        "customer table → customer_id (Primary Key)\n",
        "rental table → rental_id (Primary Key\n",
        "\n",
        "film_actor table → actor_id (Foreign Key referencing actor.actor_id)\n",
        "rental table → customer_id (Foreign Key referencing customer.customer_id)\n",
        "rental table → inventory_id (Foreign Key referencing inventory.inventory_id)\n",
        "inventory table → film_id (Foreign Key referencing film.film_id)\n"
      ],
      "metadata": {
        "id": "dQNJ4MZgrj_j"
      },
      "execution_count": null,
      "outputs": []
    },
    {
      "cell_type": "code",
      "source": [
        "import sqlite3\n",
        "\n",
        "\n",
        "conn = sqlite3.connect(\"maven_movies.db\")\n",
        "\n",
        "\n",
        "cursor = conn.cursor()\n",
        "\n",
        "\n"
      ],
      "metadata": {
        "id": "gn4-gNTO0twt"
      },
      "execution_count": null,
      "outputs": []
    },
    {
      "cell_type": "code",
      "source": [
        "#list all details of actors\n",
        "# Remove MySQL-specific commands\n",
        "!sed -i '/SET /d' maven_movies.sql\n",
        "!sed -i '/FOREIGN_KEY_CHECKS/d' maven_movies.sql\n",
        "!sed -i '/AUTO_INCREMENT/d' maven_movies.sql\n",
        "!sed -i '/CHARSET=/d' maven_movies.sql\n",
        "\n",
        "print(\"SQL file cleaned for SQLite.\")\n",
        "\n"
      ],
      "metadata": {
        "colab": {
          "base_uri": "https://localhost:8080/"
        },
        "id": "4XlJaMTh1Xu1",
        "outputId": "47b67c29-bf94-473c-9560-d668e293f3ba"
      },
      "execution_count": null,
      "outputs": [
        {
          "output_type": "stream",
          "name": "stdout",
          "text": [
            "SQL file cleaned for SQLite.\n"
          ]
        }
      ]
    },
    {
      "cell_type": "code",
      "source": [],
      "metadata": {
        "id": "Eh3bXSbYUn96"
      },
      "execution_count": null,
      "outputs": []
    }
  ]
}